{
 "cells": [
  {
   "cell_type": "code",
   "execution_count": 1,
   "metadata": {},
   "outputs": [],
   "source": [
    "#LOAD THE NECESSARY LIBRARIES\n",
    "from PIL import Image\n",
    "import face_recognition\n",
    "import cv2\n",
    "import numpy\n",
    "import dlib\n",
    "import os"
   ]
  },
  {
   "cell_type": "code",
   "execution_count": 2,
   "metadata": {},
   "outputs": [],
   "source": [
    "#lOAD THE CLUSTERED IMAGE\n",
    "opencvImage = cv2.imread('clients.jpg')"
   ]
  },
  {
   "cell_type": "code",
   "execution_count": 3,
   "metadata": {},
   "outputs": [
    {
     "name": "stdout",
     "output_type": "stream",
     "text": [
      "I found 7 face(s) in this photograph.\n"
     ]
    }
   ],
   "source": [
    "#FIND FACES IN CLUSTERED IMAGE\n",
    "face_locations = face_recognition.face_locations(opencvImage)\n",
    "print(\"I found {} face(s) in this photograph.\".format(len(face_locations)))"
   ]
  },
  {
   "cell_type": "code",
   "execution_count": 4,
   "metadata": {},
   "outputs": [
    {
     "name": "stdout",
     "output_type": "stream",
     "text": [
      "A face is located at pixel location Top: 1119, Left: 656, Bottom: 1581, Right: 1118\n",
      "A face is located at pixel location Top: 1169, Left: 1347, Bottom: 1490, Right: 1668\n",
      "A face is located at pixel location Top: 1992, Left: 1221, Bottom: 2454, Right: 1683\n",
      "A face is located at pixel location Top: 1146, Left: 76, Bottom: 1531, Right: 461\n",
      "A face is located at pixel location Top: 2088, Left: 675, Bottom: 2473, Right: 1060\n",
      "A face is located at pixel location Top: 1221, Left: 1889, Bottom: 1684, Right: 2351\n",
      "A face is located at pixel location Top: 1959, Left: 76, Bottom: 2344, Right: 461\n"
     ]
    },
    {
     "data": {
      "text/plain": [
       "True"
      ]
     },
     "execution_count": 4,
     "metadata": {},
     "output_type": "execute_result"
    }
   ],
   "source": [
    "#FIND 128 UNIQUE VECTOR FOR EACH FACE\n",
    "encodingsData = []\n",
    "imagesData = []\n",
    "for face_location in face_locations:\n",
    "    #LOCATION OF EACH FACE IN THE CLIENTS.JPG IMAGE\n",
    "    top, right, bottom, left = face_location\n",
    "    print(\"A face is located at pixel location Top: {}, Left: {}, Bottom: {}, Right: {}\".format(top, left, bottom, right))\n",
    "    \n",
    "    #ACCESSING THE ACTUAL FACES\n",
    "    face_image = opencvImage[top:bottom, left:right]\n",
    "    individualEncodingData = face_recognition.face_encodings(face_image)\n",
    "    \n",
    "    if len(individualEncodingData)>0:\n",
    "        imagesData.append(face_image)\n",
    "        encodingsData.append(dlib.vector(individualEncodingData[0]))\n",
    "        cv2.rectangle(opencvImage, (left,top), (right,bottom), (0,0,255), 2)\n",
    "cv2.imwrite(\"frameimage.jpg\",opencvImage)"
   ]
  },
  {
   "cell_type": "code",
   "execution_count": 5,
   "metadata": {},
   "outputs": [
    {
     "name": "stdout",
     "output_type": "stream",
     "text": [
      "Number of clusters: 4\n"
     ]
    }
   ],
   "source": [
    "#CLUSTERING PROCESS\n",
    "labels = dlib.chinese_whispers_clustering(encodingsData, 0.3)\n",
    "num_classes = len(set(labels))\n",
    "print(\"Number of clusters: {}\".format(num_classes))"
   ]
  },
  {
   "cell_type": "code",
   "execution_count": 6,
   "metadata": {},
   "outputs": [],
   "source": [
    "#FIND BIGGEST CLASS\n",
    "biggest_class = None\n",
    "biggest_class_length = 0\n",
    "for i in range(0, num_classes):\n",
    "    class_length = len([label for label in labels if label == i])"
   ]
  },
  {
   "cell_type": "code",
   "execution_count": 7,
   "metadata": {},
   "outputs": [],
   "source": [
    "#CREATING UNIQUE CLUSTER FOLDERS\n",
    "outputClusterFolder = \"Newcluster/IndivudialCluster\"\n",
    "for clusternumber in range(num_classes):\n",
    "    indices = []\n",
    "    imagenames = []\n",
    "    for i, label in enumerate(labels):\n",
    "        if label == clusternumber:\n",
    "            indices.append(i)\n",
    "        #WRITING SAME FACES IN SINGLE CLUSTER FOLDER\n",
    "        output_folder_path = outputClusterFolder + '{0:04}'.format(clusternumber+1)\n",
    "        \n",
    "        if not os.path.isdir(output_folder_path):\n",
    "            os.makedirs(output_folder_path)\n",
    "        #SAVE EXTRACTED FACES\n",
    "        for i, index in enumerate(indices):\n",
    "            img = imagesData[index]\n",
    "            file_path = os.path.join(output_folder_path, \"face_\" + str(i)+\".jpg\")\n",
    "            img = cv2.cvtColor(img,cv2.COLOR_RGB2BGR)\n",
    "            cv2.imwrite(file_path,img)\n"
   ]
  },
  {
   "cell_type": "code",
   "execution_count": null,
   "metadata": {},
   "outputs": [],
   "source": []
  }
 ],
 "metadata": {
  "kernelspec": {
   "display_name": "Python 3",
   "language": "python",
   "name": "python3"
  },
  "language_info": {
   "codemirror_mode": {
    "name": "ipython",
    "version": 3
   },
   "file_extension": ".py",
   "mimetype": "text/x-python",
   "name": "python",
   "nbconvert_exporter": "python",
   "pygments_lexer": "ipython3",
   "version": "3.6.10"
  }
 },
 "nbformat": 4,
 "nbformat_minor": 4
}
