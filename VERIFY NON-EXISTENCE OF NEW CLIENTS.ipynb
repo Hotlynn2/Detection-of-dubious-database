{
 "cells": [
  {
   "cell_type": "code",
   "execution_count": 1,
   "metadata": {},
   "outputs": [],
   "source": [
    "#IMPORT THE NECESSARY LIBRARIES\n",
    "import face_recognition\n",
    "from PIL import Image"
   ]
  },
  {
   "cell_type": "code",
   "execution_count": 9,
   "metadata": {},
   "outputs": [],
   "source": [
    "#LOAD CLIENT PIC DATA USED TO TRAIN THE MODEL\n",
    "andy_image = face_recognition.load_image_file('./NTLC001.jpg')\n",
    "andy_face_encoding = face_recognition.face_encodings(andy_image)[0]\n",
    "\n",
    "jeff_image = face_recognition.load_image_file('./NTLC002.jpg')\n",
    "jeff_face_encoding = face_recognition.face_encodings(jeff_image)[0]\n",
    "\n",
    "nancy_image = face_recognition.load_image_file('./NTLC004.jpg')\n",
    "nancy_face_encoding = face_recognition.face_encodings(nancy_image)[0]\n",
    "\n",
    "franklin_image = face_recognition.load_image_file('./NTLC005.jpg')\n",
    "franklin_face_encoding = face_recognition.face_encodings(franklin_image)[0]"
   ]
  },
  {
   "cell_type": "code",
   "execution_count": 10,
   "metadata": {},
   "outputs": [],
   "source": [
    "#SAVE TRAINING DATA ENCODINGS IN A LIST\n",
    "known_face_encodings =[andy_face_encoding, jeff_face_encoding, nancy_face_encoding, franklin_face_encoding]"
   ]
  },
  {
   "cell_type": "code",
   "execution_count": 11,
   "metadata": {},
   "outputs": [],
   "source": [
    "#DISPLAY NAMES OF CLIENTS ALREADY IN THE DATABASE\n",
    "known_face_names = ['Andy Winston', 'Jeffery Paintsil', 'Nancy Oduro', 'Franklin Adjei']"
   ]
  },
  {
   "cell_type": "code",
   "execution_count": 15,
   "metadata": {},
   "outputs": [],
   "source": [
    "#LOAD NEW CLIENT IMAGE TO VERIFY ITS EXISTENCE IN THE DATABASE\n",
    "new_client_image = face_recognition.load_image_file('./TRIAL2.jpg')"
   ]
  },
  {
   "cell_type": "code",
   "execution_count": 16,
   "metadata": {},
   "outputs": [],
   "source": [
    "face_locations = face_recognition.face_locations(new_client_image)\n",
    "face_encodings = face_recognition.face_encodings(new_client_image, face_locations)"
   ]
  },
  {
   "cell_type": "code",
   "execution_count": 17,
   "metadata": {},
   "outputs": [
    {
     "name": "stdout",
     "output_type": "stream",
     "text": [
      "Unknown Person\n"
     ]
    }
   ],
   "source": [
    "for(top, right, bottom, left), face_encoding in zip(face_locations, face_encodings):\n",
    "    matches=face_recognition.compare_faces(known_face_encodings, face_encoding, tolerance =0.35)\n",
    "    if True in matches:\n",
    "        first_match_index = matches.index(True)\n",
    "        name_k = known_face_names[first_match_index]\n",
    "        print(name_k)\n",
    "    else :\n",
    "        print('Unknown Person')\n"
   ]
  },
  {
   "cell_type": "code",
   "execution_count": null,
   "metadata": {},
   "outputs": [],
   "source": []
  }
 ],
 "metadata": {
  "kernelspec": {
   "display_name": "Python 3",
   "language": "python",
   "name": "python3"
  },
  "language_info": {
   "codemirror_mode": {
    "name": "ipython",
    "version": 3
   },
   "file_extension": ".py",
   "mimetype": "text/x-python",
   "name": "python",
   "nbconvert_exporter": "python",
   "pygments_lexer": "ipython3",
   "version": "3.6.10"
  }
 },
 "nbformat": 4,
 "nbformat_minor": 4
}
